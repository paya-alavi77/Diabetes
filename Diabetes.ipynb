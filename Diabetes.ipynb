{
 "cells": [
  {
   "cell_type": "markdown",
   "metadata": {},
   "source": [
    "<h1>Importing required libraries"
   ]
  },
  {
   "cell_type": "code",
   "execution_count": 3,
   "metadata": {},
   "outputs": [],
   "source": [
    "import pandas as pd\n",
    "import numpy as np\n",
    "from sklearn.neighbors import KNeighborsClassifier\n",
    "from sklearn.model_selection import train_test_split\n",
    "from sklearn.metrics import accuracy_score\n",
    "from sklearn.metrics import classification_report\n",
    "from sklearn.preprocessing import normalize\n",
    "from sklearn.preprocessing import StandardScaler\n",
    "\n",
    "from sklearn.neural_network import MLPClassifier\n",
    "\n",
    "import seaborn as sns\n",
    "import matplotlib.pyplot as plt\n",
    "\n",
    "from sklearn.linear_model import LogisticRegression\n",
    "\n",
    "from imblearn.over_sampling import SMOTE \n"
   ]
  },
  {
   "cell_type": "markdown",
   "metadata": {},
   "source": [
    "<h1>Loading the dataset"
   ]
  },
  {
   "cell_type": "markdown",
   "metadata": {},
   "source": [
    "Loading the dataset using pandas and dropping duplicates:"
   ]
  },
  {
   "cell_type": "code",
   "execution_count": 6,
   "metadata": {},
   "outputs": [],
   "source": [
    "df = pd.read_csv(\"diabetes_012_health_indicators_BRFSS2015.csv\")\n",
    "df = df.drop_duplicates()"
   ]
  },
  {
   "cell_type": "markdown",
   "metadata": {},
   "source": [
    "Dataset's info"
   ]
  },
  {
   "cell_type": "code",
   "execution_count": 49,
   "metadata": {},
   "outputs": [
    {
     "name": "stdout",
     "output_type": "stream",
     "text": [
      "<class 'pandas.core.frame.DataFrame'>\n",
      "Index: 229781 entries, 0 to 253679\n",
      "Data columns (total 22 columns):\n",
      " #   Column                Non-Null Count   Dtype  \n",
      "---  ------                --------------   -----  \n",
      " 0   Diabetes_012          229781 non-null  float64\n",
      " 1   HighBP                229781 non-null  float64\n",
      " 2   HighChol              229781 non-null  float64\n",
      " 3   CholCheck             229781 non-null  float64\n",
      " 4   BMI                   229781 non-null  float64\n",
      " 5   Smoker                229781 non-null  float64\n",
      " 6   Stroke                229781 non-null  float64\n",
      " 7   HeartDiseaseorAttack  229781 non-null  float64\n",
      " 8   PhysActivity          229781 non-null  float64\n",
      " 9   Fruits                229781 non-null  float64\n",
      " 10  Veggies               229781 non-null  float64\n",
      " 11  HvyAlcoholConsump     229781 non-null  float64\n",
      " 12  AnyHealthcare         229781 non-null  float64\n",
      " 13  NoDocbcCost           229781 non-null  float64\n",
      " 14  GenHlth               229781 non-null  float64\n",
      " 15  MentHlth              229781 non-null  float64\n",
      " 16  PhysHlth              229781 non-null  float64\n",
      " 17  DiffWalk              229781 non-null  float64\n",
      " 18  Sex                   229781 non-null  float64\n",
      " 19  Age                   229781 non-null  float64\n",
      " 20  Education             229781 non-null  float64\n",
      " 21  Income                229781 non-null  float64\n",
      "dtypes: float64(22)\n",
      "memory usage: 40.3 MB\n"
     ]
    }
   ],
   "source": [
    "df.info()"
   ]
  },
  {
   "cell_type": "markdown",
   "metadata": {},
   "source": [
    "<h1>Exploratory Analysis"
   ]
  },
  {
   "cell_type": "markdown",
   "metadata": {},
   "source": [
    "The first five rows of our dataset"
   ]
  },
  {
   "cell_type": "code",
   "execution_count": 5,
   "metadata": {},
   "outputs": [
    {
     "data": {
      "text/html": [
       "<div>\n",
       "<style scoped>\n",
       "    .dataframe tbody tr th:only-of-type {\n",
       "        vertical-align: middle;\n",
       "    }\n",
       "\n",
       "    .dataframe tbody tr th {\n",
       "        vertical-align: top;\n",
       "    }\n",
       "\n",
       "    .dataframe thead th {\n",
       "        text-align: right;\n",
       "    }\n",
       "</style>\n",
       "<table border=\"1\" class=\"dataframe\">\n",
       "  <thead>\n",
       "    <tr style=\"text-align: right;\">\n",
       "      <th></th>\n",
       "      <th>Diabetes_012</th>\n",
       "      <th>HighBP</th>\n",
       "      <th>HighChol</th>\n",
       "      <th>CholCheck</th>\n",
       "      <th>BMI</th>\n",
       "      <th>Smoker</th>\n",
       "      <th>Stroke</th>\n",
       "      <th>HeartDiseaseorAttack</th>\n",
       "      <th>PhysActivity</th>\n",
       "      <th>Fruits</th>\n",
       "      <th>...</th>\n",
       "      <th>AnyHealthcare</th>\n",
       "      <th>NoDocbcCost</th>\n",
       "      <th>GenHlth</th>\n",
       "      <th>MentHlth</th>\n",
       "      <th>PhysHlth</th>\n",
       "      <th>DiffWalk</th>\n",
       "      <th>Sex</th>\n",
       "      <th>Age</th>\n",
       "      <th>Education</th>\n",
       "      <th>Income</th>\n",
       "    </tr>\n",
       "  </thead>\n",
       "  <tbody>\n",
       "    <tr>\n",
       "      <th>0</th>\n",
       "      <td>0.0</td>\n",
       "      <td>1.0</td>\n",
       "      <td>1.0</td>\n",
       "      <td>1.0</td>\n",
       "      <td>40.0</td>\n",
       "      <td>1.0</td>\n",
       "      <td>0.0</td>\n",
       "      <td>0.0</td>\n",
       "      <td>0.0</td>\n",
       "      <td>0.0</td>\n",
       "      <td>...</td>\n",
       "      <td>1.0</td>\n",
       "      <td>0.0</td>\n",
       "      <td>5.0</td>\n",
       "      <td>18.0</td>\n",
       "      <td>15.0</td>\n",
       "      <td>1.0</td>\n",
       "      <td>0.0</td>\n",
       "      <td>9.0</td>\n",
       "      <td>4.0</td>\n",
       "      <td>3.0</td>\n",
       "    </tr>\n",
       "    <tr>\n",
       "      <th>1</th>\n",
       "      <td>0.0</td>\n",
       "      <td>0.0</td>\n",
       "      <td>0.0</td>\n",
       "      <td>0.0</td>\n",
       "      <td>25.0</td>\n",
       "      <td>1.0</td>\n",
       "      <td>0.0</td>\n",
       "      <td>0.0</td>\n",
       "      <td>1.0</td>\n",
       "      <td>0.0</td>\n",
       "      <td>...</td>\n",
       "      <td>0.0</td>\n",
       "      <td>1.0</td>\n",
       "      <td>3.0</td>\n",
       "      <td>0.0</td>\n",
       "      <td>0.0</td>\n",
       "      <td>0.0</td>\n",
       "      <td>0.0</td>\n",
       "      <td>7.0</td>\n",
       "      <td>6.0</td>\n",
       "      <td>1.0</td>\n",
       "    </tr>\n",
       "    <tr>\n",
       "      <th>2</th>\n",
       "      <td>0.0</td>\n",
       "      <td>1.0</td>\n",
       "      <td>1.0</td>\n",
       "      <td>1.0</td>\n",
       "      <td>28.0</td>\n",
       "      <td>0.0</td>\n",
       "      <td>0.0</td>\n",
       "      <td>0.0</td>\n",
       "      <td>0.0</td>\n",
       "      <td>1.0</td>\n",
       "      <td>...</td>\n",
       "      <td>1.0</td>\n",
       "      <td>1.0</td>\n",
       "      <td>5.0</td>\n",
       "      <td>30.0</td>\n",
       "      <td>30.0</td>\n",
       "      <td>1.0</td>\n",
       "      <td>0.0</td>\n",
       "      <td>9.0</td>\n",
       "      <td>4.0</td>\n",
       "      <td>8.0</td>\n",
       "    </tr>\n",
       "    <tr>\n",
       "      <th>3</th>\n",
       "      <td>0.0</td>\n",
       "      <td>1.0</td>\n",
       "      <td>0.0</td>\n",
       "      <td>1.0</td>\n",
       "      <td>27.0</td>\n",
       "      <td>0.0</td>\n",
       "      <td>0.0</td>\n",
       "      <td>0.0</td>\n",
       "      <td>1.0</td>\n",
       "      <td>1.0</td>\n",
       "      <td>...</td>\n",
       "      <td>1.0</td>\n",
       "      <td>0.0</td>\n",
       "      <td>2.0</td>\n",
       "      <td>0.0</td>\n",
       "      <td>0.0</td>\n",
       "      <td>0.0</td>\n",
       "      <td>0.0</td>\n",
       "      <td>11.0</td>\n",
       "      <td>3.0</td>\n",
       "      <td>6.0</td>\n",
       "    </tr>\n",
       "    <tr>\n",
       "      <th>4</th>\n",
       "      <td>0.0</td>\n",
       "      <td>1.0</td>\n",
       "      <td>1.0</td>\n",
       "      <td>1.0</td>\n",
       "      <td>24.0</td>\n",
       "      <td>0.0</td>\n",
       "      <td>0.0</td>\n",
       "      <td>0.0</td>\n",
       "      <td>1.0</td>\n",
       "      <td>1.0</td>\n",
       "      <td>...</td>\n",
       "      <td>1.0</td>\n",
       "      <td>0.0</td>\n",
       "      <td>2.0</td>\n",
       "      <td>3.0</td>\n",
       "      <td>0.0</td>\n",
       "      <td>0.0</td>\n",
       "      <td>0.0</td>\n",
       "      <td>11.0</td>\n",
       "      <td>5.0</td>\n",
       "      <td>4.0</td>\n",
       "    </tr>\n",
       "  </tbody>\n",
       "</table>\n",
       "<p>5 rows × 22 columns</p>\n",
       "</div>"
      ],
      "text/plain": [
       "   Diabetes_012  HighBP  HighChol  CholCheck   BMI  Smoker  Stroke  \\\n",
       "0           0.0     1.0       1.0        1.0  40.0     1.0     0.0   \n",
       "1           0.0     0.0       0.0        0.0  25.0     1.0     0.0   \n",
       "2           0.0     1.0       1.0        1.0  28.0     0.0     0.0   \n",
       "3           0.0     1.0       0.0        1.0  27.0     0.0     0.0   \n",
       "4           0.0     1.0       1.0        1.0  24.0     0.0     0.0   \n",
       "\n",
       "   HeartDiseaseorAttack  PhysActivity  Fruits  ...  AnyHealthcare  \\\n",
       "0                   0.0           0.0     0.0  ...            1.0   \n",
       "1                   0.0           1.0     0.0  ...            0.0   \n",
       "2                   0.0           0.0     1.0  ...            1.0   \n",
       "3                   0.0           1.0     1.0  ...            1.0   \n",
       "4                   0.0           1.0     1.0  ...            1.0   \n",
       "\n",
       "   NoDocbcCost  GenHlth  MentHlth  PhysHlth  DiffWalk  Sex   Age  Education  \\\n",
       "0          0.0      5.0      18.0      15.0       1.0  0.0   9.0        4.0   \n",
       "1          1.0      3.0       0.0       0.0       0.0  0.0   7.0        6.0   \n",
       "2          1.0      5.0      30.0      30.0       1.0  0.0   9.0        4.0   \n",
       "3          0.0      2.0       0.0       0.0       0.0  0.0  11.0        3.0   \n",
       "4          0.0      2.0       3.0       0.0       0.0  0.0  11.0        5.0   \n",
       "\n",
       "   Income  \n",
       "0     3.0  \n",
       "1     1.0  \n",
       "2     8.0  \n",
       "3     6.0  \n",
       "4     4.0  \n",
       "\n",
       "[5 rows x 22 columns]"
      ]
     },
     "execution_count": 5,
     "metadata": {},
     "output_type": "execute_result"
    }
   ],
   "source": [
    "df.head()"
   ]
  },
  {
   "cell_type": "markdown",
   "metadata": {},
   "source": [
    "Calculating the mean, std, and etc. for our dataset"
   ]
  },
  {
   "cell_type": "code",
   "execution_count": 7,
   "metadata": {},
   "outputs": [
    {
     "data": {
      "text/html": [
       "<div>\n",
       "<style scoped>\n",
       "    .dataframe tbody tr th:only-of-type {\n",
       "        vertical-align: middle;\n",
       "    }\n",
       "\n",
       "    .dataframe tbody tr th {\n",
       "        vertical-align: top;\n",
       "    }\n",
       "\n",
       "    .dataframe thead th {\n",
       "        text-align: right;\n",
       "    }\n",
       "</style>\n",
       "<table border=\"1\" class=\"dataframe\">\n",
       "  <thead>\n",
       "    <tr style=\"text-align: right;\">\n",
       "      <th></th>\n",
       "      <th>Diabetes_012</th>\n",
       "      <th>HighBP</th>\n",
       "      <th>HighChol</th>\n",
       "      <th>CholCheck</th>\n",
       "      <th>BMI</th>\n",
       "      <th>Smoker</th>\n",
       "      <th>Stroke</th>\n",
       "      <th>HeartDiseaseorAttack</th>\n",
       "      <th>PhysActivity</th>\n",
       "      <th>Fruits</th>\n",
       "      <th>...</th>\n",
       "      <th>AnyHealthcare</th>\n",
       "      <th>NoDocbcCost</th>\n",
       "      <th>GenHlth</th>\n",
       "      <th>MentHlth</th>\n",
       "      <th>PhysHlth</th>\n",
       "      <th>DiffWalk</th>\n",
       "      <th>Sex</th>\n",
       "      <th>Age</th>\n",
       "      <th>Education</th>\n",
       "      <th>Income</th>\n",
       "    </tr>\n",
       "  </thead>\n",
       "  <tbody>\n",
       "    <tr>\n",
       "      <th>count</th>\n",
       "      <td>229781.000000</td>\n",
       "      <td>229781.000000</td>\n",
       "      <td>229781.000000</td>\n",
       "      <td>229781.000000</td>\n",
       "      <td>229781.00000</td>\n",
       "      <td>229781.000000</td>\n",
       "      <td>229781.000000</td>\n",
       "      <td>229781.000000</td>\n",
       "      <td>229781.000000</td>\n",
       "      <td>229781.000000</td>\n",
       "      <td>...</td>\n",
       "      <td>229781.000000</td>\n",
       "      <td>229781.000000</td>\n",
       "      <td>229781.000000</td>\n",
       "      <td>229781.000000</td>\n",
       "      <td>229781.000000</td>\n",
       "      <td>229781.000000</td>\n",
       "      <td>229781.000000</td>\n",
       "      <td>229781.000000</td>\n",
       "      <td>229781.000000</td>\n",
       "      <td>229781.000000</td>\n",
       "    </tr>\n",
       "    <tr>\n",
       "      <th>mean</th>\n",
       "      <td>0.325627</td>\n",
       "      <td>0.454441</td>\n",
       "      <td>0.441760</td>\n",
       "      <td>0.959535</td>\n",
       "      <td>28.68567</td>\n",
       "      <td>0.465661</td>\n",
       "      <td>0.044756</td>\n",
       "      <td>0.103216</td>\n",
       "      <td>0.733355</td>\n",
       "      <td>0.612966</td>\n",
       "      <td>...</td>\n",
       "      <td>0.946075</td>\n",
       "      <td>0.092810</td>\n",
       "      <td>2.601151</td>\n",
       "      <td>3.505373</td>\n",
       "      <td>4.675178</td>\n",
       "      <td>0.185507</td>\n",
       "      <td>0.439231</td>\n",
       "      <td>8.086582</td>\n",
       "      <td>4.980568</td>\n",
       "      <td>5.890383</td>\n",
       "    </tr>\n",
       "    <tr>\n",
       "      <th>std</th>\n",
       "      <td>0.724623</td>\n",
       "      <td>0.497921</td>\n",
       "      <td>0.496598</td>\n",
       "      <td>0.197047</td>\n",
       "      <td>6.78636</td>\n",
       "      <td>0.498821</td>\n",
       "      <td>0.206767</td>\n",
       "      <td>0.304241</td>\n",
       "      <td>0.442206</td>\n",
       "      <td>0.487073</td>\n",
       "      <td>...</td>\n",
       "      <td>0.225871</td>\n",
       "      <td>0.290167</td>\n",
       "      <td>1.064685</td>\n",
       "      <td>7.713725</td>\n",
       "      <td>9.046568</td>\n",
       "      <td>0.388709</td>\n",
       "      <td>0.496295</td>\n",
       "      <td>3.093809</td>\n",
       "      <td>0.992895</td>\n",
       "      <td>2.092477</td>\n",
       "    </tr>\n",
       "    <tr>\n",
       "      <th>min</th>\n",
       "      <td>0.000000</td>\n",
       "      <td>0.000000</td>\n",
       "      <td>0.000000</td>\n",
       "      <td>0.000000</td>\n",
       "      <td>12.00000</td>\n",
       "      <td>0.000000</td>\n",
       "      <td>0.000000</td>\n",
       "      <td>0.000000</td>\n",
       "      <td>0.000000</td>\n",
       "      <td>0.000000</td>\n",
       "      <td>...</td>\n",
       "      <td>0.000000</td>\n",
       "      <td>0.000000</td>\n",
       "      <td>1.000000</td>\n",
       "      <td>0.000000</td>\n",
       "      <td>0.000000</td>\n",
       "      <td>0.000000</td>\n",
       "      <td>0.000000</td>\n",
       "      <td>1.000000</td>\n",
       "      <td>1.000000</td>\n",
       "      <td>1.000000</td>\n",
       "    </tr>\n",
       "    <tr>\n",
       "      <th>25%</th>\n",
       "      <td>0.000000</td>\n",
       "      <td>0.000000</td>\n",
       "      <td>0.000000</td>\n",
       "      <td>1.000000</td>\n",
       "      <td>24.00000</td>\n",
       "      <td>0.000000</td>\n",
       "      <td>0.000000</td>\n",
       "      <td>0.000000</td>\n",
       "      <td>0.000000</td>\n",
       "      <td>0.000000</td>\n",
       "      <td>...</td>\n",
       "      <td>1.000000</td>\n",
       "      <td>0.000000</td>\n",
       "      <td>2.000000</td>\n",
       "      <td>0.000000</td>\n",
       "      <td>0.000000</td>\n",
       "      <td>0.000000</td>\n",
       "      <td>0.000000</td>\n",
       "      <td>6.000000</td>\n",
       "      <td>4.000000</td>\n",
       "      <td>5.000000</td>\n",
       "    </tr>\n",
       "    <tr>\n",
       "      <th>50%</th>\n",
       "      <td>0.000000</td>\n",
       "      <td>0.000000</td>\n",
       "      <td>0.000000</td>\n",
       "      <td>1.000000</td>\n",
       "      <td>27.00000</td>\n",
       "      <td>0.000000</td>\n",
       "      <td>0.000000</td>\n",
       "      <td>0.000000</td>\n",
       "      <td>1.000000</td>\n",
       "      <td>1.000000</td>\n",
       "      <td>...</td>\n",
       "      <td>1.000000</td>\n",
       "      <td>0.000000</td>\n",
       "      <td>3.000000</td>\n",
       "      <td>0.000000</td>\n",
       "      <td>0.000000</td>\n",
       "      <td>0.000000</td>\n",
       "      <td>0.000000</td>\n",
       "      <td>8.000000</td>\n",
       "      <td>5.000000</td>\n",
       "      <td>6.000000</td>\n",
       "    </tr>\n",
       "    <tr>\n",
       "      <th>75%</th>\n",
       "      <td>0.000000</td>\n",
       "      <td>1.000000</td>\n",
       "      <td>1.000000</td>\n",
       "      <td>1.000000</td>\n",
       "      <td>32.00000</td>\n",
       "      <td>1.000000</td>\n",
       "      <td>0.000000</td>\n",
       "      <td>0.000000</td>\n",
       "      <td>1.000000</td>\n",
       "      <td>1.000000</td>\n",
       "      <td>...</td>\n",
       "      <td>1.000000</td>\n",
       "      <td>0.000000</td>\n",
       "      <td>3.000000</td>\n",
       "      <td>2.000000</td>\n",
       "      <td>4.000000</td>\n",
       "      <td>0.000000</td>\n",
       "      <td>1.000000</td>\n",
       "      <td>10.000000</td>\n",
       "      <td>6.000000</td>\n",
       "      <td>8.000000</td>\n",
       "    </tr>\n",
       "    <tr>\n",
       "      <th>max</th>\n",
       "      <td>2.000000</td>\n",
       "      <td>1.000000</td>\n",
       "      <td>1.000000</td>\n",
       "      <td>1.000000</td>\n",
       "      <td>98.00000</td>\n",
       "      <td>1.000000</td>\n",
       "      <td>1.000000</td>\n",
       "      <td>1.000000</td>\n",
       "      <td>1.000000</td>\n",
       "      <td>1.000000</td>\n",
       "      <td>...</td>\n",
       "      <td>1.000000</td>\n",
       "      <td>1.000000</td>\n",
       "      <td>5.000000</td>\n",
       "      <td>30.000000</td>\n",
       "      <td>30.000000</td>\n",
       "      <td>1.000000</td>\n",
       "      <td>1.000000</td>\n",
       "      <td>13.000000</td>\n",
       "      <td>6.000000</td>\n",
       "      <td>8.000000</td>\n",
       "    </tr>\n",
       "  </tbody>\n",
       "</table>\n",
       "<p>8 rows × 22 columns</p>\n",
       "</div>"
      ],
      "text/plain": [
       "        Diabetes_012         HighBP       HighChol      CholCheck  \\\n",
       "count  229781.000000  229781.000000  229781.000000  229781.000000   \n",
       "mean        0.325627       0.454441       0.441760       0.959535   \n",
       "std         0.724623       0.497921       0.496598       0.197047   \n",
       "min         0.000000       0.000000       0.000000       0.000000   \n",
       "25%         0.000000       0.000000       0.000000       1.000000   \n",
       "50%         0.000000       0.000000       0.000000       1.000000   \n",
       "75%         0.000000       1.000000       1.000000       1.000000   \n",
       "max         2.000000       1.000000       1.000000       1.000000   \n",
       "\n",
       "                BMI         Smoker         Stroke  HeartDiseaseorAttack  \\\n",
       "count  229781.00000  229781.000000  229781.000000         229781.000000   \n",
       "mean       28.68567       0.465661       0.044756              0.103216   \n",
       "std         6.78636       0.498821       0.206767              0.304241   \n",
       "min        12.00000       0.000000       0.000000              0.000000   \n",
       "25%        24.00000       0.000000       0.000000              0.000000   \n",
       "50%        27.00000       0.000000       0.000000              0.000000   \n",
       "75%        32.00000       1.000000       0.000000              0.000000   \n",
       "max        98.00000       1.000000       1.000000              1.000000   \n",
       "\n",
       "        PhysActivity         Fruits  ...  AnyHealthcare    NoDocbcCost  \\\n",
       "count  229781.000000  229781.000000  ...  229781.000000  229781.000000   \n",
       "mean        0.733355       0.612966  ...       0.946075       0.092810   \n",
       "std         0.442206       0.487073  ...       0.225871       0.290167   \n",
       "min         0.000000       0.000000  ...       0.000000       0.000000   \n",
       "25%         0.000000       0.000000  ...       1.000000       0.000000   \n",
       "50%         1.000000       1.000000  ...       1.000000       0.000000   \n",
       "75%         1.000000       1.000000  ...       1.000000       0.000000   \n",
       "max         1.000000       1.000000  ...       1.000000       1.000000   \n",
       "\n",
       "             GenHlth       MentHlth       PhysHlth       DiffWalk  \\\n",
       "count  229781.000000  229781.000000  229781.000000  229781.000000   \n",
       "mean        2.601151       3.505373       4.675178       0.185507   \n",
       "std         1.064685       7.713725       9.046568       0.388709   \n",
       "min         1.000000       0.000000       0.000000       0.000000   \n",
       "25%         2.000000       0.000000       0.000000       0.000000   \n",
       "50%         3.000000       0.000000       0.000000       0.000000   \n",
       "75%         3.000000       2.000000       4.000000       0.000000   \n",
       "max         5.000000      30.000000      30.000000       1.000000   \n",
       "\n",
       "                 Sex            Age      Education         Income  \n",
       "count  229781.000000  229781.000000  229781.000000  229781.000000  \n",
       "mean        0.439231       8.086582       4.980568       5.890383  \n",
       "std         0.496295       3.093809       0.992895       2.092477  \n",
       "min         0.000000       1.000000       1.000000       1.000000  \n",
       "25%         0.000000       6.000000       4.000000       5.000000  \n",
       "50%         0.000000       8.000000       5.000000       6.000000  \n",
       "75%         1.000000      10.000000       6.000000       8.000000  \n",
       "max         1.000000      13.000000       6.000000       8.000000  \n",
       "\n",
       "[8 rows x 22 columns]"
      ]
     },
     "execution_count": 7,
     "metadata": {},
     "output_type": "execute_result"
    }
   ],
   "source": [
    "df.describe()"
   ]
  },
  {
   "cell_type": "markdown",
   "metadata": {},
   "source": [
    "Dataset's columns"
   ]
  },
  {
   "cell_type": "code",
   "execution_count": 9,
   "metadata": {},
   "outputs": [
    {
     "data": {
      "text/plain": [
       "Index(['Diabetes_012', 'HighBP', 'HighChol', 'CholCheck', 'BMI', 'Smoker',\n",
       "       'Stroke', 'HeartDiseaseorAttack', 'PhysActivity', 'Fruits', 'Veggies',\n",
       "       'HvyAlcoholConsump', 'AnyHealthcare', 'NoDocbcCost', 'GenHlth',\n",
       "       'MentHlth', 'PhysHlth', 'DiffWalk', 'Sex', 'Age', 'Education',\n",
       "       'Income'],\n",
       "      dtype='object')"
      ]
     },
     "execution_count": 9,
     "metadata": {},
     "output_type": "execute_result"
    }
   ],
   "source": [
    "df.columns"
   ]
  },
  {
   "cell_type": "markdown",
   "metadata": {},
   "source": [
    "The correlation of 'Diabetes_012' column with other columns"
   ]
  },
  {
   "cell_type": "code",
   "execution_count": 22,
   "metadata": {},
   "outputs": [
    {
     "data": {
      "text/html": [
       "<div>\n",
       "<style scoped>\n",
       "    .dataframe tbody tr th:only-of-type {\n",
       "        vertical-align: middle;\n",
       "    }\n",
       "\n",
       "    .dataframe tbody tr th {\n",
       "        vertical-align: top;\n",
       "    }\n",
       "\n",
       "    .dataframe thead th {\n",
       "        text-align: right;\n",
       "    }\n",
       "</style>\n",
       "<table border=\"1\" class=\"dataframe\">\n",
       "  <thead>\n",
       "    <tr style=\"text-align: right;\">\n",
       "      <th></th>\n",
       "      <th>Diabetes_012</th>\n",
       "    </tr>\n",
       "  </thead>\n",
       "  <tbody>\n",
       "    <tr>\n",
       "      <th>Diabetes_012</th>\n",
       "      <td>1.000000</td>\n",
       "    </tr>\n",
       "    <tr>\n",
       "      <th>HighBP</th>\n",
       "      <td>0.261976</td>\n",
       "    </tr>\n",
       "    <tr>\n",
       "      <th>HighChol</th>\n",
       "      <td>0.203327</td>\n",
       "    </tr>\n",
       "    <tr>\n",
       "      <th>CholCheck</th>\n",
       "      <td>0.075701</td>\n",
       "    </tr>\n",
       "    <tr>\n",
       "      <th>BMI</th>\n",
       "      <td>0.212027</td>\n",
       "    </tr>\n",
       "    <tr>\n",
       "      <th>Smoker</th>\n",
       "      <td>0.046774</td>\n",
       "    </tr>\n",
       "    <tr>\n",
       "      <th>Stroke</th>\n",
       "      <td>0.100276</td>\n",
       "    </tr>\n",
       "    <tr>\n",
       "      <th>HeartDiseaseorAttack</th>\n",
       "      <td>0.170816</td>\n",
       "    </tr>\n",
       "    <tr>\n",
       "      <th>PhysActivity</th>\n",
       "      <td>-0.103408</td>\n",
       "    </tr>\n",
       "    <tr>\n",
       "      <th>Fruits</th>\n",
       "      <td>-0.025462</td>\n",
       "    </tr>\n",
       "    <tr>\n",
       "      <th>Veggies</th>\n",
       "      <td>-0.043446</td>\n",
       "    </tr>\n",
       "    <tr>\n",
       "      <th>HvyAlcoholConsump</th>\n",
       "      <td>-0.067164</td>\n",
       "    </tr>\n",
       "    <tr>\n",
       "      <th>AnyHealthcare</th>\n",
       "      <td>0.024911</td>\n",
       "    </tr>\n",
       "    <tr>\n",
       "      <th>NoDocbcCost</th>\n",
       "      <td>0.023568</td>\n",
       "    </tr>\n",
       "    <tr>\n",
       "      <th>GenHlth</th>\n",
       "      <td>0.284881</td>\n",
       "    </tr>\n",
       "    <tr>\n",
       "      <th>MentHlth</th>\n",
       "      <td>0.057698</td>\n",
       "    </tr>\n",
       "    <tr>\n",
       "      <th>PhysHlth</th>\n",
       "      <td>0.160485</td>\n",
       "    </tr>\n",
       "    <tr>\n",
       "      <th>DiffWalk</th>\n",
       "      <td>0.210638</td>\n",
       "    </tr>\n",
       "    <tr>\n",
       "      <th>Sex</th>\n",
       "      <td>0.032243</td>\n",
       "    </tr>\n",
       "    <tr>\n",
       "      <th>Age</th>\n",
       "      <td>0.184642</td>\n",
       "    </tr>\n",
       "    <tr>\n",
       "      <th>Education</th>\n",
       "      <td>-0.107742</td>\n",
       "    </tr>\n",
       "    <tr>\n",
       "      <th>Income</th>\n",
       "      <td>-0.147102</td>\n",
       "    </tr>\n",
       "  </tbody>\n",
       "</table>\n",
       "</div>"
      ],
      "text/plain": [
       "                      Diabetes_012\n",
       "Diabetes_012              1.000000\n",
       "HighBP                    0.261976\n",
       "HighChol                  0.203327\n",
       "CholCheck                 0.075701\n",
       "BMI                       0.212027\n",
       "Smoker                    0.046774\n",
       "Stroke                    0.100276\n",
       "HeartDiseaseorAttack      0.170816\n",
       "PhysActivity             -0.103408\n",
       "Fruits                   -0.025462\n",
       "Veggies                  -0.043446\n",
       "HvyAlcoholConsump        -0.067164\n",
       "AnyHealthcare             0.024911\n",
       "NoDocbcCost               0.023568\n",
       "GenHlth                   0.284881\n",
       "MentHlth                  0.057698\n",
       "PhysHlth                  0.160485\n",
       "DiffWalk                  0.210638\n",
       "Sex                       0.032243\n",
       "Age                       0.184642\n",
       "Education                -0.107742\n",
       "Income                   -0.147102"
      ]
     },
     "execution_count": 22,
     "metadata": {},
     "output_type": "execute_result"
    }
   ],
   "source": [
    "df.corr()[['Diabetes_012']]"
   ]
  },
  {
   "cell_type": "markdown",
   "metadata": {},
   "source": [
    "Finding columns with high correlation to Diabetes in individuals over this dataset:"
   ]
  },
  {
   "cell_type": "code",
   "execution_count": 39,
   "metadata": {},
   "outputs": [
    {
     "name": "stdout",
     "output_type": "stream",
     "text": [
      "High correlation columns: ['Diabetes_012' 'HighBP' 'HighChol' 'BMI' 'GenHlth' 'DiffWalk']\n"
     ]
    }
   ],
   "source": [
    "diab_corr = df.corr()['Diabetes_012']\n",
    "high_corr = diab_corr[diab_corr > 0.2].keys()\n",
    "\n",
    "print(\"High correlation columns:\", str(high_corr.values))"
   ]
  },
  {
   "cell_type": "code",
   "execution_count": 35,
   "metadata": {},
   "outputs": [
    {
     "data": {
      "image/png": "[encoded data removed]",
      "text/plain": [
       "<Figure size 1356.24x1250 with 30 Axes>"
      ]
     },
     "metadata": {},
     "output_type": "display_data"
    }
   ],
   "source": [
    "selected_columns = high_corr[1:]\n",
    "\n",
    "sns.pairplot(df, x_vars = selected_columns, y_vars = selected_columns, hue='Diabetes_012', height=2.5)\n",
    "plt.show()"
   ]
  },
  {
   "cell_type": "markdown",
   "metadata": {},
   "source": [
    "How many samples does each category of 'Diabetes_012' column have?"
   ]
  },
  {
   "cell_type": "code",
   "execution_count": 7,
   "metadata": {},
   "outputs": [
    {
     "name": "stdout",
     "output_type": "stream",
     "text": [
      "190055 4629 35097\n"
     ]
    }
   ],
   "source": [
    "df_class_0 = df[df['Diabetes_012'] == 0]\n",
    "\n",
    "df_class_1 = df[df['Diabetes_012'] == 1]\n",
    "\n",
    "df_class_2 = df[df['Diabetes_012'] == 2]\n",
    "\n",
    "\n",
    "count_class_0, count_class_1, count_class_2=df.Diabetes_012.value_counts().sort_index()\n",
    "\n",
    "print(count_class_0,count_class_1,count_class_2)"
   ]
  },
  {
   "cell_type": "markdown",
   "metadata": {},
   "source": [
    "Which gender has the most number of diabetes samples?"
   ]
  },
  {
   "cell_type": "code",
   "execution_count": 48,
   "metadata": {},
   "outputs": [
    {
     "data": {
      "text/html": [
       "<div>\n",
       "<style scoped>\n",
       "    .dataframe tbody tr th:only-of-type {\n",
       "        vertical-align: middle;\n",
       "    }\n",
       "\n",
       "    .dataframe tbody tr th {\n",
       "        vertical-align: top;\n",
       "    }\n",
       "\n",
       "    .dataframe thead th {\n",
       "        text-align: right;\n",
       "    }\n",
       "</style>\n",
       "<table border=\"1\" class=\"dataframe\">\n",
       "  <thead>\n",
       "    <tr style=\"text-align: right;\">\n",
       "      <th></th>\n",
       "      <th>Diabetes_012</th>\n",
       "    </tr>\n",
       "    <tr>\n",
       "      <th>Sex</th>\n",
       "      <th></th>\n",
       "    </tr>\n",
       "  </thead>\n",
       "  <tbody>\n",
       "    <tr>\n",
       "      <th>0.0</th>\n",
       "      <td>18345</td>\n",
       "    </tr>\n",
       "    <tr>\n",
       "      <th>1.0</th>\n",
       "      <td>16752</td>\n",
       "    </tr>\n",
       "  </tbody>\n",
       "</table>\n",
       "</div>"
      ],
      "text/plain": [
       "     Diabetes_012\n",
       "Sex              \n",
       "0.0         18345\n",
       "1.0         16752"
      ]
     },
     "execution_count": 48,
     "metadata": {},
     "output_type": "execute_result"
    }
   ],
   "source": [
    "df_class_2.groupby('Sex')[['Diabetes_012']].count()"
   ]
  },
  {
   "cell_type": "markdown",
   "metadata": {},
   "source": [
    "<h1>Spliting dataset into train,val,test split"
   ]
  },
  {
   "cell_type": "code",
   "execution_count": 28,
   "metadata": {},
   "outputs": [],
   "source": [
    "y = df.iloc[:,[0]]\n",
    "x= df.iloc[:,1:]\n",
    "x_train,x_test,y_train,y_test = train_test_split(x, y, test_size=0.2, random_state=1234)\n",
    "\n",
    "x_train,x_val,y_train,y_val = train_test_split(x_train, y_train, test_size=0.2, random_state=1234)\n",
    "\n"
   ]
  },
  {
   "cell_type": "markdown",
   "metadata": {},
   "source": [
    "Predicting 'Diabetes_012' using knn algorithm. Explanation: .values will give the values in a numpy array (shape: (n,1))\n",
    "\n",
    ".ravel will convert that array shape to (n, ) (i.e. flatten it)"
   ]
  },
  {
   "cell_type": "code",
   "execution_count": 24,
   "metadata": {},
   "outputs": [
    {
     "name": "stdout",
     "output_type": "stream",
     "text": [
      "k = 1 \n",
      "-------------------------------------------------------------------------------------------------------------------------------\n",
      "              precision    recall  f1-score   support\n",
      "\n",
      "         0.0       0.85      0.86      0.85     30227\n",
      "         1.0       0.03      0.03      0.03       756\n",
      "         2.0       0.30      0.29      0.29      5782\n",
      "\n",
      "    accuracy                           0.75     36765\n",
      "   macro avg       0.39      0.39      0.39     36765\n",
      "weighted avg       0.75      0.75      0.75     36765\n",
      " \n",
      "-------------------------------------------------------------------------------------------------------------------------------\n",
      "k = 2 \n",
      "-------------------------------------------------------------------------------------------------------------------------------\n",
      "              precision    recall  f1-score   support\n",
      "\n",
      "         0.0       0.84      0.96      0.89     30227\n",
      "         1.0       0.04      0.02      0.03       756\n",
      "         2.0       0.40      0.11      0.17      5782\n",
      "\n",
      "    accuracy                           0.81     36765\n",
      "   macro avg       0.43      0.36      0.36     36765\n",
      "weighted avg       0.75      0.81      0.76     36765\n",
      " \n",
      "-------------------------------------------------------------------------------------------------------------------------------\n",
      "k = 3 \n",
      "-------------------------------------------------------------------------------------------------------------------------------\n",
      "              precision    recall  f1-score   support\n",
      "\n",
      "         0.0       0.85      0.93      0.89     30227\n",
      "         1.0       0.04      0.00      0.00       756\n",
      "         2.0       0.37      0.23      0.28      5782\n",
      "\n",
      "    accuracy                           0.80     36765\n",
      "   macro avg       0.42      0.39      0.39     36765\n",
      "weighted avg       0.76      0.80      0.77     36765\n",
      " \n",
      "-------------------------------------------------------------------------------------------------------------------------------\n",
      "k = 4 \n",
      "-------------------------------------------------------------------------------------------------------------------------------\n",
      "              precision    recall  f1-score   support\n",
      "\n",
      "         0.0       0.84      0.96      0.90     30227\n",
      "         1.0       0.02      0.00      0.00       756\n",
      "         2.0       0.42      0.14      0.21      5782\n",
      "\n",
      "    accuracy                           0.81     36765\n",
      "   macro avg       0.43      0.37      0.37     36765\n",
      "weighted avg       0.76      0.81      0.77     36765\n",
      " \n",
      "-------------------------------------------------------------------------------------------------------------------------------\n",
      "k = 5 \n",
      "-------------------------------------------------------------------------------------------------------------------------------\n",
      "              precision    recall  f1-score   support\n",
      "\n",
      "         0.0       0.84      0.95      0.89     30227\n",
      "         1.0       0.00      0.00      0.00       756\n",
      "         2.0       0.41      0.20      0.27      5782\n",
      "\n",
      "    accuracy                           0.81     36765\n",
      "   macro avg       0.42      0.38      0.39     36765\n",
      "weighted avg       0.76      0.81      0.78     36765\n",
      " \n",
      "-------------------------------------------------------------------------------------------------------------------------------\n",
      "k = 6 \n",
      "-------------------------------------------------------------------------------------------------------------------------------\n",
      "              precision    recall  f1-score   support\n",
      "\n",
      "         0.0       0.84      0.97      0.90     30227\n",
      "         1.0       0.00      0.00      0.00       756\n",
      "         2.0       0.45      0.14      0.21      5782\n",
      "\n",
      "    accuracy                           0.82     36765\n",
      "   macro avg       0.43      0.37      0.37     36765\n",
      "weighted avg       0.76      0.82      0.77     36765\n",
      " \n",
      "-------------------------------------------------------------------------------------------------------------------------------\n"
     ]
    }
   ],
   "source": [
    "for i in range(1,7):\n",
    "    knn = KNeighborsClassifier(n_neighbors = i)\n",
    "    knn.fit(x_train, y_train.values.ravel())\n",
    "    pred_i = knn.predict(x_val)\n",
    "    print('k = '+str(i),'\\n-------------------------------------------------------------------------------------------------------------------------------')\n",
    "    print(classification_report(y_val, pred_i,zero_division=0),'\\n-------------------------------------------------------------------------------------------------------------------------------')\n",
    "\n"
   ]
  },
  {
   "cell_type": "markdown",
   "metadata": {},
   "source": [
    "<h1> How to handle this imbalance dataset?"
   ]
  },
  {
   "cell_type": "markdown",
   "metadata": {},
   "source": [
    "As it can be seen, since our dataset is imbalance, it is not possible to get a good prediction for values 1 and 2 in the 'Diabetes_012' column, even though the accuracy is above eighty percent, so it is necessary to control the imbalance of the dataset."
   ]
  },
  {
   "cell_type": "markdown",
   "metadata": {},
   "source": [
    "**Method 1: Under Sampling**\n",
    "It's not a good idea to undersample data since we will lose a lot of rows in our dataset. Instead we will use other methods.\n",
    "\n",
    "**Method 2: Over Sampling**\n",
    "We will create copies from our catagories with few rows."
   ]
  },
  {
   "cell_type": "code",
   "execution_count": 21,
   "metadata": {},
   "outputs": [
    {
     "data": {
      "text/plain": [
       "Diabetes_012\n",
       "0.0    190055\n",
       "1.0    190055\n",
       "2.0    190055\n",
       "Name: count, dtype: int64"
      ]
     },
     "execution_count": 21,
     "metadata": {},
     "output_type": "execute_result"
    }
   ],
   "source": [
    "df_over_sampled = pd.concat([df_class_0,df_class_1.sample(count_class_0,replace=True),df_class_2.sample(count_class_0,replace=True)])\n",
    "\n",
    "df_over_sampled.Diabetes_012.value_counts()"
   ]
  },
  {
   "cell_type": "markdown",
   "metadata": {},
   "source": [
    "**Method 3:** SMOTE (Best Method for models)<br>\n",
    "**for the best knn results use over sampling without dropping duplicates in dataset and use standardization**"
   ]
  },
  {
   "cell_type": "code",
   "execution_count": 40,
   "metadata": {},
   "outputs": [
    {
     "data": {
      "text/plain": [
       "Diabetes_012\n",
       "0.0    190055\n",
       "2.0    190055\n",
       "1.0    190055\n",
       "Name: count, dtype: int64"
      ]
     },
     "execution_count": 40,
     "metadata": {},
     "output_type": "execute_result"
    }
   ],
   "source": [
    "sm_x,sm_y = SMOTE(random_state=1234).fit_resample(x,y)\n",
    "\n",
    "df_over_sampled = pd.concat([sm_y,sm_x],axis=1)\n",
    "\n",
    "df_over_sampled.Diabetes_012.value_counts()"
   ]
  },
  {
   "cell_type": "markdown",
   "metadata": {},
   "source": [
    "<h1> Normalization or Standardization?"
   ]
  },
  {
   "cell_type": "markdown",
   "metadata": {},
   "source": [
    "Now we use our classification algorithm again:\n",
    "<br>**Since our dataset is not normalized, we also test if normalizing will improve our results**"
   ]
  },
  {
   "cell_type": "code",
   "execution_count": 41,
   "metadata": {},
   "outputs": [
    {
     "name": "stdout",
     "output_type": "stream",
     "text": [
      "Train size =  364905\n",
      "Validation size =  91227\n",
      "Test size =  114033\n"
     ]
    }
   ],
   "source": [
    "y = df_over_sampled.iloc[:,[0]]\n",
    "x= df_over_sampled.iloc[:,1:]\n",
    "\n",
    "#normalize data\n",
    "x= pd.DataFrame(normalize(x,axis=0),columns=x.columns)\n",
    "\n",
    "\n",
    "x_train,x_test,y_train,y_test = train_test_split(x, y, test_size=0.2, random_state=1234)\n",
    "\n",
    "x_train,x_val,y_train,y_val = train_test_split(x_train, y_train, test_size=0.2, random_state=1234)\n",
    "\n",
    "print('Train size = ', x_train.shape[0])\n",
    "print('Validation size = ', x_val.shape[0])\n",
    "print('Test size = ', x_test.shape[0])\n"
   ]
  },
  {
   "cell_type": "code",
   "execution_count": 42,
   "metadata": {},
   "outputs": [
    {
     "name": "stdout",
     "output_type": "stream",
     "text": [
      "k = 1 \n",
      "-------------------------------------------------------------------------------------------------------------------------------\n",
      "              precision    recall  f1-score   support\n",
      "\n",
      "         0.0       0.92      0.82      0.87     30626\n",
      "         1.0       0.94      0.99      0.97     30209\n",
      "         2.0       0.85      0.90      0.87     30392\n",
      "\n",
      "    accuracy                           0.90     91227\n",
      "   macro avg       0.90      0.90      0.90     91227\n",
      "weighted avg       0.90      0.90      0.90     91227\n",
      " \n",
      "-------------------------------------------------------------------------------------------------------------------------------\n",
      "k = 2 \n",
      "-------------------------------------------------------------------------------------------------------------------------------\n",
      "              precision    recall  f1-score   support\n",
      "\n",
      "         0.0       0.83      0.87      0.85     30626\n",
      "         1.0       0.91      0.99      0.95     30209\n",
      "         2.0       0.88      0.75      0.81     30392\n",
      "\n",
      "    accuracy                           0.87     91227\n",
      "   macro avg       0.87      0.87      0.87     91227\n",
      "weighted avg       0.87      0.87      0.87     91227\n",
      " \n",
      "-------------------------------------------------------------------------------------------------------------------------------\n"
     ]
    }
   ],
   "source": [
    "for i in range(1,3):\n",
    "    knn = KNeighborsClassifier(n_neighbors = i)\n",
    "    knn.fit(x_train, y_train.values.ravel())\n",
    "    pred_i = knn.predict(x_val)\n",
    "    print('k = '+str(i),'\\n-------------------------------------------------------------------------------------------------------------------------------')\n",
    "    print(classification_report(y_val, pred_i,zero_division=0),'\\n-------------------------------------------------------------------------------------------------------------------------------')\n",
    "\n"
   ]
  },
  {
   "cell_type": "markdown",
   "metadata": {},
   "source": [
    "**Normalization by rows:**"
   ]
  },
  {
   "cell_type": "code",
   "execution_count": 38,
   "metadata": {},
   "outputs": [],
   "source": [
    "y = df_over_sampled.iloc[:,[0]]\n",
    "x= df_over_sampled.iloc[:,1:]\n",
    "\n",
    "#normalize data\n",
    "x= pd.DataFrame(normalize(x,axis=1),columns=x.columns)\n",
    "\n",
    "\n",
    "x_train,x_test,y_train,y_test = train_test_split(x, y, test_size=0.2, random_state=1234)\n",
    "\n",
    "x_train,x_val,y_train,y_val = train_test_split(x_train, y_train, test_size=0.2, random_state=1234)\n"
   ]
  },
  {
   "cell_type": "code",
   "execution_count": 29,
   "metadata": {},
   "outputs": [
    {
     "name": "stdout",
     "output_type": "stream",
     "text": [
      "k = 1 \n",
      "-------------------------------------------------------------------------------------------------------------------------------\n",
      "              precision    recall  f1-score   support\n",
      "\n",
      "         0.0       0.97      0.79      0.87     30575\n",
      "         1.0       0.97      1.00      0.98     30374\n",
      "         2.0       0.84      0.97      0.90     30278\n",
      "\n",
      "    accuracy                           0.92     91227\n",
      "   macro avg       0.93      0.92      0.92     91227\n",
      "weighted avg       0.93      0.92      0.92     91227\n",
      " \n",
      "-------------------------------------------------------------------------------------------------------------------------------\n",
      "k = 2 \n",
      "-------------------------------------------------------------------------------------------------------------------------------\n",
      "              precision    recall  f1-score   support\n",
      "\n",
      "         0.0       0.90      0.80      0.85     30575\n",
      "         1.0       0.96      1.00      0.98     30374\n",
      "         2.0       0.84      0.90      0.87     30278\n",
      "\n",
      "    accuracy                           0.90     91227\n",
      "   macro avg       0.90      0.90      0.90     91227\n",
      "weighted avg       0.90      0.90      0.90     91227\n",
      " \n",
      "-------------------------------------------------------------------------------------------------------------------------------\n"
     ]
    }
   ],
   "source": [
    "for i in range(1,3):\n",
    "    knn = KNeighborsClassifier(n_neighbors = i)\n",
    "    knn.fit(x_train, y_train.values.ravel())\n",
    "    pred_i = knn.predict(x_val)\n",
    "    print('k = '+str(i),'\\n-------------------------------------------------------------------------------------------------------------------------------')\n",
    "    print(classification_report(y_val, pred_i,zero_division=0),'\\n-------------------------------------------------------------------------------------------------------------------------------')\n",
    "\n"
   ]
  },
  {
   "cell_type": "markdown",
   "metadata": {},
   "source": [
    "    Standardization of data (Best method for our case):"
   ]
  },
  {
   "cell_type": "code",
   "execution_count": 43,
   "metadata": {},
   "outputs": [],
   "source": [
    "y = df_over_sampled.iloc[:,[0]]\n",
    "x= df_over_sampled.iloc[:,1:]\n",
    "\n",
    "x = pd.DataFrame(StandardScaler().fit_transform(x,),columns=x.columns)\n",
    "\n",
    "\n",
    "x_train,x_test,y_train,y_test = train_test_split(x, y, test_size=0.2, random_state=1234)\n",
    "\n",
    "x_train,x_val,y_train,y_val = train_test_split(x_train, y_train, test_size=0.2, random_state=1234)\n"
   ]
  },
  {
   "cell_type": "code",
   "execution_count": 44,
   "metadata": {},
   "outputs": [
    {
     "name": "stdout",
     "output_type": "stream",
     "text": [
      "k = 1 \n",
      "-------------------------------------------------------------------------------------------------------------------------------\n",
      "              precision    recall  f1-score   support\n",
      "\n",
      "         0.0       0.92      0.82      0.87     30626\n",
      "         1.0       0.94      0.99      0.97     30209\n",
      "         2.0       0.85      0.90      0.87     30392\n",
      "\n",
      "    accuracy                           0.90     91227\n",
      "   macro avg       0.90      0.90      0.90     91227\n",
      "weighted avg       0.90      0.90      0.90     91227\n",
      " \n",
      "-------------------------------------------------------------------------------------------------------------------------------\n",
      "k = 2 \n",
      "-------------------------------------------------------------------------------------------------------------------------------\n",
      "              precision    recall  f1-score   support\n",
      "\n",
      "         0.0       0.83      0.87      0.85     30626\n",
      "         1.0       0.91      0.99      0.95     30209\n",
      "         2.0       0.88      0.75      0.81     30392\n",
      "\n",
      "    accuracy                           0.87     91227\n",
      "   macro avg       0.87      0.87      0.87     91227\n",
      "weighted avg       0.87      0.87      0.87     91227\n",
      " \n",
      "-------------------------------------------------------------------------------------------------------------------------------\n"
     ]
    }
   ],
   "source": [
    "for i in range(1,3):\n",
    "    knn = KNeighborsClassifier(n_neighbors = i)\n",
    "    knn.fit(x_train, y_train.values.ravel())\n",
    "    pred_i = knn.predict(x_val)\n",
    "    print('k = '+str(i),'\\n-------------------------------------------------------------------------------------------------------------------------------')\n",
    "    print(classification_report(y_val, pred_i,zero_division=0),'\\n-------------------------------------------------------------------------------------------------------------------------------')\n",
    "\n"
   ]
  },
  {
   "cell_type": "markdown",
   "metadata": {},
   "source": [
    "**Without normalization and standardization:**"
   ]
  },
  {
   "cell_type": "code",
   "execution_count": 56,
   "metadata": {},
   "outputs": [],
   "source": [
    "y = df_over_sampled.iloc[:,[0]]\n",
    "x= df_over_sampled.iloc[:,1:]\n",
    "\n",
    "x_train,x_test,y_train,y_test = train_test_split(x, y, test_size=0.2, random_state=1234)\n",
    "\n",
    "x_train,x_val,y_train,y_val = train_test_split(x_train, y_train, test_size=0.2, random_state=1234)\n",
    "\n"
   ]
  },
  {
   "cell_type": "code",
   "execution_count": 57,
   "metadata": {},
   "outputs": [
    {
     "name": "stdout",
     "output_type": "stream",
     "text": [
      "k = 1 \n",
      "-------------------------------------------------------------------------------------------------------------------------------\n",
      "              precision    recall  f1-score   support\n",
      "\n",
      "         0.0       0.97      0.74      0.84     30575\n",
      "         1.0       0.94      1.00      0.97     30374\n",
      "         2.0       0.82      0.97      0.89     30278\n",
      "\n",
      "    accuracy                           0.90     91227\n",
      "   macro avg       0.91      0.90      0.90     91227\n",
      "weighted avg       0.91      0.90      0.90     91227\n",
      " \n",
      "-------------------------------------------------------------------------------------------------------------------------------\n",
      "k = 2 \n",
      "-------------------------------------------------------------------------------------------------------------------------------\n",
      "              precision    recall  f1-score   support\n",
      "\n",
      "         0.0       0.90      0.79      0.84     30575\n",
      "         1.0       0.94      1.00      0.97     30374\n",
      "         2.0       0.85      0.90      0.88     30278\n",
      "\n",
      "    accuracy                           0.90     91227\n",
      "   macro avg       0.90      0.90      0.89     91227\n",
      "weighted avg       0.90      0.90      0.89     91227\n",
      " \n",
      "-------------------------------------------------------------------------------------------------------------------------------\n"
     ]
    }
   ],
   "source": [
    "for i in range(1,3):\n",
    "    knn = KNeighborsClassifier(n_neighbors = i)\n",
    "    knn.fit(x_train, y_train.values.ravel())\n",
    "    pred_i = knn.predict(x_val)\n",
    "    print('k = '+str(i),'\\n-------------------------------------------------------------------------------------------------------------------------------')\n",
    "    print(classification_report(y_val, pred_i,zero_division=0),'\\n-------------------------------------------------------------------------------------------------------------------------------')\n",
    "\n"
   ]
  },
  {
   "cell_type": "markdown",
   "metadata": {},
   "source": [
    "<h1> Models:"
   ]
  },
  {
   "cell_type": "markdown",
   "metadata": {},
   "source": [
    "**Logistic Regression**"
   ]
  },
  {
   "cell_type": "code",
   "execution_count": 46,
   "metadata": {},
   "outputs": [
    {
     "name": "stdout",
     "output_type": "stream",
     "text": [
      "              precision    recall  f1-score   support\n",
      "\n",
      "         0.0       0.59      0.63      0.61     30626\n",
      "         1.0       0.44      0.33      0.38     30209\n",
      "         2.0       0.51      0.60      0.55     30392\n",
      "\n",
      "    accuracy                           0.52     91227\n",
      "   macro avg       0.51      0.52      0.51     91227\n",
      "weighted avg       0.52      0.52      0.51     91227\n",
      "\n"
     ]
    }
   ],
   "source": [
    "lr = LogisticRegression(random_state=1234,max_iter=1000)\n",
    "\n",
    "lr.fit(x_train,y_train.values.ravel())\n",
    "\n",
    "lr_pred = lr.predict(x_val)\n",
    "\n",
    "print(classification_report(y_val, lr_pred,zero_division=0))"
   ]
  },
  {
   "cell_type": "code",
   "execution_count": 47,
   "metadata": {},
   "outputs": [
    {
     "data": {
      "text/plain": [
       "{'C': 1.0,\n",
       " 'class_weight': None,\n",
       " 'dual': False,\n",
       " 'fit_intercept': True,\n",
       " 'intercept_scaling': 1,\n",
       " 'l1_ratio': None,\n",
       " 'max_iter': 1000,\n",
       " 'multi_class': 'auto',\n",
       " 'n_jobs': None,\n",
       " 'penalty': 'l2',\n",
       " 'random_state': 1234,\n",
       " 'solver': 'lbfgs',\n",
       " 'tol': 0.0001,\n",
       " 'verbose': 0,\n",
       " 'warm_start': False}"
      ]
     },
     "execution_count": 47,
     "metadata": {},
     "output_type": "execute_result"
    }
   ],
   "source": [
    "lr.get_params()"
   ]
  },
  {
   "cell_type": "code",
   "execution_count": 33,
   "metadata": {},
   "outputs": [
    {
     "data": {
      "text/plain": [
       "array([[-3.54695781e-01, -3.92866448e-01, -7.44200436e-01,\n",
       "        -4.49466660e-02,  3.80982328e-02, -2.05957211e-02,\n",
       "        -6.23209297e-02,  1.28872331e-02,  1.09041759e-03,\n",
       "         5.67147887e-03,  3.62126458e-01, -2.65939983e-02,\n",
       "        -1.68567034e-01, -2.86861178e-01, -7.88751732e-04,\n",
       "         3.79222562e-03, -1.86316894e-02, -1.24182941e-01,\n",
       "        -9.97923672e-02,  2.31929862e-02,  3.96582741e-02],\n",
       "       [-1.11405744e-02,  1.76603113e-01,  1.72122144e-01,\n",
       "         1.41237781e-02, -2.37911375e-02, -1.17123390e-01,\n",
       "        -9.60800742e-02,  1.74672916e-02,  1.71177989e-02,\n",
       "        -1.46890500e-02,  8.97061772e-02, -7.64936211e-02,\n",
       "         2.20230232e-01,  1.25208112e-02,  5.18803209e-03,\n",
       "        -7.04194560e-04, -5.10911116e-02, -2.30429911e-02,\n",
       "         4.24989245e-02, -2.76997703e-02, -1.98233466e-02],\n",
       "       [ 3.65836356e-01,  2.16263335e-01,  5.72078292e-01,\n",
       "         3.08228879e-02, -1.43070953e-02,  1.37719111e-01,\n",
       "         1.58401004e-01, -3.03545247e-02, -1.82082165e-02,\n",
       "         9.01757112e-03, -4.51832635e-01,  1.03087619e-01,\n",
       "        -5.16631989e-02,  2.74340366e-01, -4.39928036e-03,\n",
       "        -3.08803106e-03,  6.97228010e-02,  1.47225932e-01,\n",
       "         5.72934427e-02,  4.50678413e-03, -1.98349275e-02]])"
      ]
     },
     "execution_count": 33,
     "metadata": {},
     "output_type": "execute_result"
    }
   ],
   "source": [
    "lr.coef_"
   ]
  },
  {
   "cell_type": "markdown",
   "metadata": {},
   "source": [
    "**Artificial Neural Networks**"
   ]
  },
  {
   "cell_type": "code",
   "execution_count": 44,
   "metadata": {},
   "outputs": [
    {
     "name": "stdout",
     "output_type": "stream",
     "text": [
      "              precision    recall  f1-score   support\n",
      "\n",
      "         0.0       0.71      0.84      0.77     37906\n",
      "         1.0       0.63      0.55      0.59     38257\n",
      "         2.0       0.54      0.51      0.53     37870\n",
      "\n",
      "    accuracy                           0.63    114033\n",
      "   macro avg       0.63      0.64      0.63    114033\n",
      "weighted avg       0.63      0.63      0.63    114033\n",
      "\n"
     ]
    }
   ],
   "source": [
    "nn = MLPClassifier(hidden_layer_sizes = (10,15),\n",
    "                   activation = 'relu',\n",
    "                   solver = 'adam',\n",
    "                   early_stopping=True,\n",
    "                   random_state=1234)\n",
    "\n",
    "nn.fit(x_train, y_train.values.ravel())\n",
    "\n",
    "y_pred = nn.predict(x_test)\n",
    "\n",
    "\n",
    "print(classification_report(y_test, y_pred)) "
   ]
  },
  {
   "cell_type": "code",
   "execution_count": 45,
   "metadata": {},
   "outputs": [
    {
     "data": {
      "text/plain": [
       "{'activation': 'relu',\n",
       " 'alpha': 0.0001,\n",
       " 'batch_size': 'auto',\n",
       " 'beta_1': 0.9,\n",
       " 'beta_2': 0.999,\n",
       " 'early_stopping': True,\n",
       " 'epsilon': 1e-08,\n",
       " 'hidden_layer_sizes': (10, 15),\n",
       " 'learning_rate': 'constant',\n",
       " 'learning_rate_init': 0.001,\n",
       " 'max_fun': 15000,\n",
       " 'max_iter': 200,\n",
       " 'momentum': 0.9,\n",
       " 'n_iter_no_change': 10,\n",
       " 'nesterovs_momentum': True,\n",
       " 'power_t': 0.5,\n",
       " 'random_state': 1234,\n",
       " 'shuffle': True,\n",
       " 'solver': 'adam',\n",
       " 'tol': 0.0001,\n",
       " 'validation_fraction': 0.1,\n",
       " 'verbose': False,\n",
       " 'warm_start': False}"
      ]
     },
     "execution_count": 45,
     "metadata": {},
     "output_type": "execute_result"
    }
   ],
   "source": [
    "nn.get_params()"
   ]
  },
  {
   "cell_type": "code",
   "execution_count": 46,
   "metadata": {},
   "outputs": [
    {
     "data": {
      "text/plain": [
       "[array([[-3.80324914e-02,  3.22685879e-02, -7.94263509e-02,\n",
       "         -3.56861043e-02, -1.88468026e-02, -3.16466732e-01,\n",
       "         -2.05611030e-02,  8.93144527e-03,  5.95361813e-02,\n",
       "         -1.09088643e-01],\n",
       "        [-6.89808392e-02,  3.13126691e-02,  1.45789143e-02,\n",
       "         -3.63555024e-02, -5.86249990e-03, -1.51133739e-01,\n",
       "         -1.05529978e-02,  8.71475418e-04,  1.87170153e-02,\n",
       "         -5.37634952e-02],\n",
       "        [-4.73856821e-01, -2.76933460e+00, -4.26834446e+00,\n",
       "         -3.22290481e-01,  7.77562363e+00,  9.95561075e-03,\n",
       "         -1.12981843e+00,  2.15967163e-02,  1.63905247e-01,\n",
       "         -6.83096841e-01],\n",
       "        [ 5.87863698e-02,  2.35047460e-01, -2.10517962e-01,\n",
       "         -4.59298739e-03, -4.39815947e-03,  2.17100851e-02,\n",
       "         -1.95330549e-01,  1.87215442e-02,  2.65380521e-01,\n",
       "         -1.54273335e-01],\n",
       "        [-6.39588127e-03, -1.04063453e-02, -3.09714606e-02,\n",
       "         -7.40796529e-04, -2.03353836e-03, -1.64773616e-02,\n",
       "         -1.66161096e-02, -1.48471460e-02,  1.06164589e-02,\n",
       "         -7.38016145e-03],\n",
       "        [ 5.63346526e-01,  7.53013287e-02, -1.22968466e+00,\n",
       "          2.38323743e-01,  5.68740917e-02,  7.93316449e-01,\n",
       "          7.22801191e-02, -8.01442733e-02,  1.23666507e+00,\n",
       "          2.19747244e-01],\n",
       "        [ 3.78445599e-02, -1.12156697e-01, -3.28451684e-02,\n",
       "          1.57974822e-01,  4.52756075e-02,  1.48537418e-02,\n",
       "         -3.64618756e-02,  4.46055304e-02,  1.63115414e-01,\n",
       "         -9.10817501e-02],\n",
       "        [ 6.84389585e-01,  7.52089974e-02,  6.59503380e-02,\n",
       "         -2.65952646e-02,  6.60875074e-02,  3.95394170e-01,\n",
       "          1.96191714e-01,  1.02795728e+00,  1.17897638e-01,\n",
       "         -2.49815509e+00],\n",
       "        [-2.37778971e-02,  3.21863577e-02,  3.38826881e-02,\n",
       "         -3.88121050e-02, -1.37310200e-02, -4.85927106e-03,\n",
       "          1.30683215e-02, -5.69845095e-03, -4.91085907e-04,\n",
       "         -4.81024390e-03],\n",
       "        [-6.44895342e-02,  6.44978838e-02,  8.12329931e-02,\n",
       "         -1.15378594e-01, -4.60700518e-02, -7.17183413e-02,\n",
       "         -1.33121650e-02, -4.23581968e-02,  5.44937982e-02,\n",
       "         -2.43995093e-02],\n",
       "        [ 3.13694068e-01, -2.14371270e-01, -1.53137663e-01,\n",
       "          2.84073815e-01,  1.56355413e-01,  9.24495031e-02,\n",
       "          3.61733428e-02, -1.43041743e-01, -2.02946091e-01,\n",
       "          6.38264080e-01],\n",
       "        [-6.18510561e-01, -1.58946709e-01,  9.96953499e-01,\n",
       "         -1.90208274e-01, -7.39253231e-02, -1.09090460e+00,\n",
       "          6.01206301e-02,  1.64089951e-02, -1.29313177e+00,\n",
       "          1.41410486e-01],\n",
       "        [ 2.31824340e+00,  2.61694343e+00,  1.08968191e+00,\n",
       "          1.35853384e-01,  2.53876833e-02, -5.62574681e-01,\n",
       "          2.22357743e-01,  1.96513201e-01, -1.27868867e-01,\n",
       "         -1.58430497e+00],\n",
       "        [-3.30968558e-02,  9.86922007e-02, -2.48249922e-01,\n",
       "         -1.81057575e-01, -7.81686170e-03, -4.36871044e-01,\n",
       "         -2.00265009e-01, -1.84493178e-04,  1.65396754e-01,\n",
       "         -2.32621416e-01],\n",
       "        [-9.39620426e-02,  6.75625666e-02,  2.33835684e-01,\n",
       "         -8.00157562e-01,  1.01491219e-02,  3.02833884e-02,\n",
       "         -1.16657298e-01,  2.35901922e-02,  6.11402517e-03,\n",
       "         -1.00719624e-01],\n",
       "        [ 4.23858929e-02, -3.00281343e-02,  5.56922827e-03,\n",
       "         -3.38500924e+00,  4.10854836e-02,  2.11004144e-01,\n",
       "         -1.43117497e-01,  4.72900881e-02,  8.52529573e-02,\n",
       "         -5.03328962e-02],\n",
       "        [ 8.32448124e-02, -7.44270008e-02,  2.74256870e-01,\n",
       "          3.45394496e-02, -4.08647312e-02,  5.68296728e-01,\n",
       "          8.60604585e-02,  4.42734113e-02,  1.05884989e+00,\n",
       "         -1.50247325e-01],\n",
       "        [-6.97391989e-02, -1.91217220e-02, -2.65803158e-02,\n",
       "          1.80350550e-02,  3.22714079e-02, -3.66128033e-01,\n",
       "          1.00200821e-01,  1.82386750e+00, -9.87278812e-03,\n",
       "          1.09408554e+00],\n",
       "        [ 1.49952488e-02, -2.13259051e-01,  2.60445612e-01,\n",
       "          3.26696754e-02, -4.45442972e-03, -1.71167468e-01,\n",
       "          2.77237851e-01,  1.46515864e-03,  3.50776053e-01,\n",
       "         -2.17977350e-01],\n",
       "        [-7.02973733e-02, -1.13047967e-01,  1.89794912e-01,\n",
       "          3.30980458e-02,  2.24137857e-02, -1.57793332e-02,\n",
       "         -9.94183570e-01, -6.75178252e-03, -2.47173365e-02,\n",
       "          9.11252607e-02],\n",
       "        [ 1.53908154e-02, -1.89999821e-03, -6.32724993e-02,\n",
       "          2.26543033e-01,  7.25366174e-03,  9.26343532e-02,\n",
       "         -6.71156374e-01, -6.44469149e-02, -6.11811482e-02,\n",
       "          8.70353608e-02]]),\n",
       " array([[ 6.09974560e-001,  6.97254820e-001, -3.21214954e-001,\n",
       "         -2.50810078e-001, -9.93881065e-001,  8.33152434e-316,\n",
       "         -8.80415388e-001, -6.61271654e-001, -2.90599591e+000,\n",
       "          9.15815479e-001, -1.13981761e+000, -5.86409949e-001,\n",
       "         -8.12075421e-001,  1.37403651e+000, -2.97756050e-001],\n",
       "        [-7.73855443e-001,  6.99747833e-002,  1.24378147e+000,\n",
       "          9.63421239e-001,  4.29729607e-003, -1.34261477e-315,\n",
       "         -8.03782924e-001, -1.46444649e+000, -4.91526589e-001,\n",
       "         -6.75531057e-001,  5.68097442e-001, -6.85818072e-001,\n",
       "          5.10896729e-001, -1.10166702e+000,  1.03344054e+000],\n",
       "        [-1.03893747e+000, -7.46397902e-002, -1.52252953e-002,\n",
       "         -3.21561494e-002,  7.61269660e-001,  4.36648444e-316,\n",
       "         -1.19880535e+000, -1.63390236e+000, -6.21915021e-001,\n",
       "          2.71144690e-001,  4.90439666e-001, -1.58968473e-001,\n",
       "          5.72305510e-002,  4.04753679e-001,  8.45422606e-001],\n",
       "        [-5.24756026e-001, -1.99041254e-001,  1.99857934e+000,\n",
       "         -2.33429453e+000, -1.50164431e+000,  2.03409307e-316,\n",
       "         -2.55058657e+000, -2.10234520e+000,  4.23820081e-001,\n",
       "         -5.88481881e-001,  3.35644538e+000,  3.04740842e-001,\n",
       "          3.29756262e+000, -5.86861146e-001, -4.62464054e+000],\n",
       "        [-3.14286624e+000, -3.87658549e+000,  3.40368072e+000,\n",
       "         -7.26473743e-001, -1.38937564e+000, -7.11566638e-316,\n",
       "          2.77834465e+000, -1.35287575e+000,  1.71013037e-001,\n",
       "         -2.81040374e+000,  3.30546076e+000, -1.41083053e+000,\n",
       "          3.80690970e+000, -2.38221718e+000, -5.79814164e+000],\n",
       "        [ 6.44624256e-002, -3.90947206e-001, -6.41342583e-003,\n",
       "          9.40817940e-001,  5.61088476e-001, -1.08875160e-315,\n",
       "          3.24131313e-001,  4.81548342e-001,  7.59933974e-001,\n",
       "          5.50682211e-001, -1.89673867e-001,  8.15987152e-002,\n",
       "         -1.17716792e-001,  8.87250781e-001, -2.98812422e-002],\n",
       "        [-3.10573598e-001, -1.07124139e-001, -2.34973125e-001,\n",
       "         -2.43000165e-001,  2.37220567e-001,  2.72933508e-316,\n",
       "          2.01687262e-001,  9.41887319e-002,  1.65144561e-001,\n",
       "          1.14929357e-002,  8.02308188e-001, -1.91169906e-001,\n",
       "          5.34995660e-001,  1.44604482e-002,  2.81649181e-001],\n",
       "        [ 3.18474958e-001,  7.23114727e-001,  5.79581707e-002,\n",
       "          5.97360305e-002, -2.34918051e-002, -6.75688061e-316,\n",
       "         -3.22179135e-002,  6.53339107e-001,  2.19475332e+000,\n",
       "         -3.19696298e-001, -2.72066251e-001, -9.49701020e-002,\n",
       "         -1.56562979e-001,  2.54839019e-001, -7.84057902e-001],\n",
       "        [-1.99075228e-001,  1.41014036e-001,  7.51630107e-001,\n",
       "         -6.77667773e-001,  8.82232049e-001,  1.79295633e-315,\n",
       "          2.35626652e-001,  4.86122386e-002, -4.07972964e-001,\n",
       "         -2.75666868e-001,  7.87586861e-001,  1.11106934e+000,\n",
       "          4.96231398e-001, -5.05022367e-001,  1.18511472e-002],\n",
       "        [-1.46178645e-001,  1.14583536e+000,  7.18882144e-001,\n",
       "          1.04462052e-001,  1.20305466e-001, -1.49178362e-315,\n",
       "         -2.27645515e-002,  8.69707920e-003, -1.47876310e+000,\n",
       "          5.11395455e-001,  4.61518634e-001,  5.42868943e-002,\n",
       "          5.92913483e-001,  3.16197305e-001, -7.16452644e-002]]),\n",
       " array([[ 4.57895041e+000, -3.65448452e+000, -1.17651084e+000],\n",
       "        [ 4.42930538e+000, -2.12974961e+000, -9.62699957e-001],\n",
       "        [-2.42499546e+000,  4.54100724e-001,  7.30133655e-001],\n",
       "        [-8.10846505e-002,  1.44714810e+000, -6.69094401e-001],\n",
       "        [ 3.64464071e+000, -2.42887986e+000, -7.20532122e-001],\n",
       "        [ 1.70677040e-315, -4.17013984e-317,  5.16250429e-316],\n",
       "        [-6.30877806e+000,  2.96278382e+000,  2.26687539e+000],\n",
       "        [ 1.57174873e+000, -1.65067783e+000, -5.70547634e-001],\n",
       "        [ 5.04546470e+000, -2.05516251e+000, -2.11772080e+000],\n",
       "        [ 1.79984582e+000, -4.48457062e-001, -1.01076445e+000],\n",
       "        [-1.89523053e+000,  1.77916701e+000,  1.06173969e+000],\n",
       "        [-3.38213188e+000,  1.67460809e+000,  5.30215007e-001],\n",
       "        [-1.85808434e+000,  1.71284721e+000,  8.12722546e-001],\n",
       "        [ 1.55014691e+000, -1.99273373e-001, -1.28323340e+000],\n",
       "        [ 2.02307827e+000, -8.67656281e-001, -3.26620182e-001]])]"
      ]
     },
     "execution_count": 46,
     "metadata": {},
     "output_type": "execute_result"
    }
   ],
   "source": [
    "nn.coefs_"
   ]
  },
  {
   "cell_type": "code",
   "execution_count": null,
   "metadata": {},
   "outputs": [],
   "source": []
  }
 ],
 "metadata": {
  "kernelspec": {
   "display_name": "Python 3 (ipykernel)",
   "language": "python",
   "name": "python3"
  },
  "language_info": {
   "codemirror_mode": {
    "name": "ipython",
    "version": 3
   },
   "file_extension": ".py",
   "mimetype": "text/x-python",
   "name": "python",
   "nbconvert_exporter": "python",
   "pygments_lexer": "ipython3",
   "version": "3.11.9"
  }
 },
 "nbformat": 4,
 "nbformat_minor": 4
}
